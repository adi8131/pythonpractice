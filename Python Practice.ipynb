{
 "cells": [
  {
   "cell_type": "code",
   "execution_count": 1,
   "id": "c7a86178",
   "metadata": {},
   "outputs": [],
   "source": [
    "adi=131281"
   ]
  },
  {
   "cell_type": "code",
   "execution_count": 2,
   "id": "11f274eb",
   "metadata": {},
   "outputs": [
    {
     "data": {
      "text/plain": [
       "131281"
      ]
     },
     "execution_count": 2,
     "metadata": {},
     "output_type": "execute_result"
    }
   ],
   "source": [
    "adi"
   ]
  },
  {
   "cell_type": "code",
   "execution_count": 3,
   "id": "05f64b32",
   "metadata": {},
   "outputs": [
    {
     "name": "stdout",
     "output_type": "stream",
     "text": [
      "131281\n"
     ]
    }
   ],
   "source": [
    "print(adi)"
   ]
  },
  {
   "cell_type": "code",
   "execution_count": 4,
   "id": "09c1a7ac",
   "metadata": {},
   "outputs": [
    {
     "data": {
      "text/plain": [
       "int"
      ]
     },
     "execution_count": 4,
     "metadata": {},
     "output_type": "execute_result"
    }
   ],
   "source": [
    "type(adi)"
   ]
  },
  {
   "cell_type": "code",
   "execution_count": 5,
   "id": "e6f2ea95",
   "metadata": {},
   "outputs": [],
   "source": [
    "name='Aditya'"
   ]
  },
  {
   "cell_type": "code",
   "execution_count": 6,
   "id": "f826c63c",
   "metadata": {},
   "outputs": [
    {
     "name": "stdout",
     "output_type": "stream",
     "text": [
      "Aditya\n"
     ]
    }
   ],
   "source": [
    "print(name)"
   ]
  },
  {
   "cell_type": "code",
   "execution_count": 7,
   "id": "b869599b",
   "metadata": {},
   "outputs": [
    {
     "data": {
      "text/plain": [
       "str"
      ]
     },
     "execution_count": 7,
     "metadata": {},
     "output_type": "execute_result"
    }
   ],
   "source": [
    "type(name)"
   ]
  },
  {
   "cell_type": "code",
   "execution_count": 8,
   "id": "e99fc8ca",
   "metadata": {},
   "outputs": [],
   "source": [
    "a=12.4"
   ]
  },
  {
   "cell_type": "code",
   "execution_count": 9,
   "id": "b9ec287d",
   "metadata": {},
   "outputs": [
    {
     "data": {
      "text/plain": [
       "float"
      ]
     },
     "execution_count": 9,
     "metadata": {},
     "output_type": "execute_result"
    }
   ],
   "source": [
    "type(a)"
   ]
  },
  {
   "cell_type": "code",
   "execution_count": 10,
   "id": "dd3703ff",
   "metadata": {},
   "outputs": [
    {
     "ename": "SyntaxError",
     "evalue": "invalid syntax (1880925736.py, line 1)",
     "output_type": "error",
     "traceback": [
      "\u001b[0;36m  File \u001b[0;32m\"/var/folders/xn/lb6lk2_s3jz2fttmdwj87jhw0000gn/T/ipykernel_36541/1880925736.py\"\u001b[0;36m, line \u001b[0;32m1\u001b[0m\n\u001b[0;31m    t=13bafja\u001b[0m\n\u001b[0m        ^\u001b[0m\n\u001b[0;31mSyntaxError\u001b[0m\u001b[0;31m:\u001b[0m invalid syntax\n"
     ]
    }
   ],
   "source": [
    "t=13bafja"
   ]
  },
  {
   "cell_type": "code",
   "execution_count": 11,
   "id": "95cbbd1c",
   "metadata": {},
   "outputs": [
    {
     "name": "stdout",
     "output_type": "stream",
     "text": [
      "Aditya\n"
     ]
    }
   ],
   "source": [
    "print(name)"
   ]
  },
  {
   "cell_type": "code",
   "execution_count": 12,
   "id": "31c25d46",
   "metadata": {},
   "outputs": [
    {
     "data": {
      "text/plain": [
       "'Aditya'"
      ]
     },
     "execution_count": 12,
     "metadata": {},
     "output_type": "execute_result"
    }
   ],
   "source": [
    "name"
   ]
  },
  {
   "cell_type": "code",
   "execution_count": 13,
   "id": "5bc4671e",
   "metadata": {},
   "outputs": [],
   "source": [
    "a=2+6j"
   ]
  },
  {
   "cell_type": "code",
   "execution_count": 14,
   "id": "f6d2fe92",
   "metadata": {},
   "outputs": [
    {
     "data": {
      "text/plain": [
       "(2+6j)"
      ]
     },
     "execution_count": 14,
     "metadata": {},
     "output_type": "execute_result"
    }
   ],
   "source": [
    "a"
   ]
  },
  {
   "cell_type": "code",
   "execution_count": 15,
   "id": "2c709136",
   "metadata": {},
   "outputs": [
    {
     "data": {
      "text/plain": [
       "2.0"
      ]
     },
     "execution_count": 15,
     "metadata": {},
     "output_type": "execute_result"
    }
   ],
   "source": [
    "a.real"
   ]
  },
  {
   "cell_type": "code",
   "execution_count": 16,
   "id": "bb1f72cb",
   "metadata": {},
   "outputs": [
    {
     "data": {
      "text/plain": [
       "<function complex.conjugate>"
      ]
     },
     "execution_count": 16,
     "metadata": {},
     "output_type": "execute_result"
    }
   ],
   "source": [
    "a.conjugate"
   ]
  },
  {
   "cell_type": "code",
   "execution_count": 17,
   "id": "7b8c10d3",
   "metadata": {},
   "outputs": [
    {
     "ename": "AttributeError",
     "evalue": "'complex' object has no attribute 'encode'",
     "output_type": "error",
     "traceback": [
      "\u001b[0;31m---------------------------------------------------------------------------\u001b[0m",
      "\u001b[0;31mAttributeError\u001b[0m                            Traceback (most recent call last)",
      "\u001b[0;32m/var/folders/xn/lb6lk2_s3jz2fttmdwj87jhw0000gn/T/ipykernel_36541/1996501060.py\u001b[0m in \u001b[0;36m<module>\u001b[0;34m\u001b[0m\n\u001b[0;32m----> 1\u001b[0;31m \u001b[0ma\u001b[0m\u001b[0;34m.\u001b[0m\u001b[0mencode\u001b[0m\u001b[0;34m\u001b[0m\u001b[0;34m\u001b[0m\u001b[0m\n\u001b[0m",
      "\u001b[0;31mAttributeError\u001b[0m: 'complex' object has no attribute 'encode'"
     ]
    }
   ],
   "source": [
    "a.encode"
   ]
  },
  {
   "cell_type": "code",
   "execution_count": 18,
   "id": "00254869",
   "metadata": {},
   "outputs": [
    {
     "ename": "AttributeError",
     "evalue": "'complex' object has no attribute 'len'",
     "output_type": "error",
     "traceback": [
      "\u001b[0;31m---------------------------------------------------------------------------\u001b[0m",
      "\u001b[0;31mAttributeError\u001b[0m                            Traceback (most recent call last)",
      "\u001b[0;32m/var/folders/xn/lb6lk2_s3jz2fttmdwj87jhw0000gn/T/ipykernel_36541/915559247.py\u001b[0m in \u001b[0;36m<module>\u001b[0;34m\u001b[0m\n\u001b[0;32m----> 1\u001b[0;31m \u001b[0ma\u001b[0m\u001b[0;34m.\u001b[0m\u001b[0mlen\u001b[0m\u001b[0;34m\u001b[0m\u001b[0;34m\u001b[0m\u001b[0m\n\u001b[0m",
      "\u001b[0;31mAttributeError\u001b[0m: 'complex' object has no attribute 'len'"
     ]
    }
   ],
   "source": [
    "a.len"
   ]
  },
  {
   "cell_type": "code",
   "execution_count": 19,
   "id": "f7e809cb",
   "metadata": {},
   "outputs": [
    {
     "data": {
      "text/plain": [
       "2.0"
      ]
     },
     "execution_count": 19,
     "metadata": {},
     "output_type": "execute_result"
    }
   ],
   "source": [
    "a.real"
   ]
  },
  {
   "cell_type": "code",
   "execution_count": 20,
   "id": "0d3defab",
   "metadata": {},
   "outputs": [],
   "source": [
    "a='aditya'+str(9548)+'kumar'"
   ]
  },
  {
   "cell_type": "code",
   "execution_count": 21,
   "id": "28029bad",
   "metadata": {},
   "outputs": [
    {
     "data": {
      "text/plain": [
       "'aditya9548kumar'"
      ]
     },
     "execution_count": 21,
     "metadata": {},
     "output_type": "execute_result"
    }
   ],
   "source": [
    "a"
   ]
  },
  {
   "cell_type": "code",
   "execution_count": 22,
   "id": "e785b0a7",
   "metadata": {},
   "outputs": [
    {
     "ename": "NameError",
     "evalue": "name 'TRUE' is not defined",
     "output_type": "error",
     "traceback": [
      "\u001b[0;31m---------------------------------------------------------------------------\u001b[0m",
      "\u001b[0;31mNameError\u001b[0m                                 Traceback (most recent call last)",
      "\u001b[0;32m/var/folders/xn/lb6lk2_s3jz2fttmdwj87jhw0000gn/T/ipykernel_36541/2703054458.py\u001b[0m in \u001b[0;36m<module>\u001b[0;34m\u001b[0m\n\u001b[0;32m----> 1\u001b[0;31m \u001b[0mTRUE\u001b[0m \u001b[0;34m+\u001b[0m\u001b[0mTRUE\u001b[0m\u001b[0;34m\u001b[0m\u001b[0;34m\u001b[0m\u001b[0m\n\u001b[0m",
      "\u001b[0;31mNameError\u001b[0m: name 'TRUE' is not defined"
     ]
    }
   ],
   "source": [
    "TRUE +TRUE"
   ]
  },
  {
   "cell_type": "code",
   "execution_count": 23,
   "id": "123669ea",
   "metadata": {},
   "outputs": [
    {
     "data": {
      "text/plain": [
       "2"
      ]
     },
     "execution_count": 23,
     "metadata": {},
     "output_type": "execute_result"
    }
   ],
   "source": [
    "True +True"
   ]
  },
  {
   "cell_type": "code",
   "execution_count": 24,
   "id": "c6eb1205",
   "metadata": {},
   "outputs": [
    {
     "data": {
      "text/plain": [
       "1"
      ]
     },
     "execution_count": 24,
     "metadata": {},
     "output_type": "execute_result"
    }
   ],
   "source": [
    "True -False"
   ]
  },
  {
   "cell_type": "code",
   "execution_count": 25,
   "id": "1f512034",
   "metadata": {},
   "outputs": [
    {
     "data": {
      "text/plain": [
       "2"
      ]
     },
     "execution_count": 25,
     "metadata": {},
     "output_type": "execute_result"
    }
   ],
   "source": [
    "1+True"
   ]
  },
  {
   "cell_type": "code",
   "execution_count": 26,
   "id": "b5c63407",
   "metadata": {},
   "outputs": [
    {
     "data": {
      "text/plain": [
       "-1"
      ]
     },
     "execution_count": 26,
     "metadata": {},
     "output_type": "execute_result"
    }
   ],
   "source": [
    "False-True"
   ]
  },
  {
   "cell_type": "code",
   "execution_count": 27,
   "id": "4328dc25",
   "metadata": {},
   "outputs": [],
   "source": [
    "a=45"
   ]
  },
  {
   "cell_type": "code",
   "execution_count": 29,
   "id": "58d72ad9",
   "metadata": {},
   "outputs": [
    {
     "data": {
      "text/plain": [
       "135"
      ]
     },
     "execution_count": 29,
     "metadata": {},
     "output_type": "execute_result"
    }
   ],
   "source": [
    "a*(True+2)"
   ]
  },
  {
   "cell_type": "code",
   "execution_count": 30,
   "id": "7593a2da",
   "metadata": {},
   "outputs": [
    {
     "name": "stdout",
     "output_type": "stream",
     "text": [
      "Aditya\n"
     ]
    }
   ],
   "source": [
    "name=input()"
   ]
  },
  {
   "cell_type": "raw",
   "id": "cbd2e084",
   "metadata": {},
   "source": [
    "print(name)"
   ]
  },
  {
   "cell_type": "code",
   "execution_count": 31,
   "id": "0f08c70b",
   "metadata": {},
   "outputs": [
    {
     "name": "stdout",
     "output_type": "stream",
     "text": [
      "Aditya\n"
     ]
    }
   ],
   "source": [
    "print(name)"
   ]
  },
  {
   "cell_type": "code",
   "execution_count": 32,
   "id": "0879b8da",
   "metadata": {},
   "outputs": [
    {
     "data": {
      "text/plain": [
       "5"
      ]
     },
     "execution_count": 32,
     "metadata": {},
     "output_type": "execute_result"
    }
   ],
   "source": [
    "int(5)"
   ]
  },
  {
   "cell_type": "code",
   "execution_count": 33,
   "id": "8558394c",
   "metadata": {},
   "outputs": [
    {
     "data": {
      "text/plain": [
       "'5'"
      ]
     },
     "execution_count": 33,
     "metadata": {},
     "output_type": "execute_result"
    }
   ],
   "source": [
    "str(5)"
   ]
  },
  {
   "cell_type": "code",
   "execution_count": 35,
   "id": "146890ce",
   "metadata": {},
   "outputs": [
    {
     "data": {
      "text/plain": [
       "241"
      ]
     },
     "execution_count": 35,
     "metadata": {},
     "output_type": "execute_result"
    }
   ],
   "source": [
    "int('241')"
   ]
  },
  {
   "cell_type": "code",
   "execution_count": 36,
   "id": "de6e5662",
   "metadata": {},
   "outputs": [
    {
     "name": "stdout",
     "output_type": "stream",
     "text": [
      "Aditya kumar\n"
     ]
    }
   ],
   "source": [
    "name=input()"
   ]
  },
  {
   "cell_type": "markdown",
   "id": "6745b8e7",
   "metadata": {},
   "source": [
    "name"
   ]
  },
  {
   "cell_type": "code",
   "execution_count": 37,
   "id": "da4f21a0",
   "metadata": {},
   "outputs": [
    {
     "data": {
      "text/plain": [
       "'Aditya kumar'"
      ]
     },
     "execution_count": 37,
     "metadata": {},
     "output_type": "execute_result"
    }
   ],
   "source": [
    "name"
   ]
  },
  {
   "cell_type": "code",
   "execution_count": 39,
   "id": "aa83f5ea",
   "metadata": {},
   "outputs": [
    {
     "data": {
      "text/plain": [
       "'Aditya kumar kada'"
      ]
     },
     "execution_count": 39,
     "metadata": {},
     "output_type": "execute_result"
    }
   ],
   "source": [
    "name+' kada'"
   ]
  },
  {
   "cell_type": "code",
   "execution_count": 40,
   "id": "3a38edc4",
   "metadata": {},
   "outputs": [
    {
     "data": {
      "text/plain": [
       "'/Users/adityakumar'"
      ]
     },
     "execution_count": 40,
     "metadata": {},
     "output_type": "execute_result"
    }
   ],
   "source": [
    "pwd()"
   ]
  },
  {
   "cell_type": "code",
   "execution_count": 41,
   "id": "085fa75b",
   "metadata": {},
   "outputs": [
    {
     "data": {
      "text/plain": [
       "str"
      ]
     },
     "execution_count": 41,
     "metadata": {},
     "output_type": "execute_result"
    }
   ],
   "source": [
    "type(name)"
   ]
  },
  {
   "cell_type": "code",
   "execution_count": 42,
   "id": "9caa7c70",
   "metadata": {},
   "outputs": [
    {
     "data": {
      "text/plain": [
       "int"
      ]
     },
     "execution_count": 42,
     "metadata": {},
     "output_type": "execute_result"
    }
   ],
   "source": [
    "type(a)"
   ]
  },
  {
   "cell_type": "code",
   "execution_count": 43,
   "id": "864df110",
   "metadata": {},
   "outputs": [
    {
     "data": {
      "text/plain": [
       "45"
      ]
     },
     "execution_count": 43,
     "metadata": {},
     "output_type": "execute_result"
    }
   ],
   "source": [
    "a"
   ]
  },
  {
   "cell_type": "code",
   "execution_count": 1,
   "id": "baf745f8",
   "metadata": {},
   "outputs": [],
   "source": [
    "msg='This is my python\\'practice notebook'"
   ]
  },
  {
   "cell_type": "code",
   "execution_count": 2,
   "id": "9319cc88",
   "metadata": {},
   "outputs": [
    {
     "data": {
      "text/plain": [
       "\"This is my python'practice notebook\""
      ]
     },
     "execution_count": 2,
     "metadata": {},
     "output_type": "execute_result"
    }
   ],
   "source": [
    "msg"
   ]
  },
  {
   "cell_type": "code",
   "execution_count": 3,
   "id": "7e255714",
   "metadata": {},
   "outputs": [
    {
     "name": "stdout",
     "output_type": "stream",
     "text": [
      "This is my python'practice notebook\n"
     ]
    }
   ],
   "source": [
    "print(msg)"
   ]
  },
  {
   "cell_type": "code",
   "execution_count": 4,
   "id": "94a36731",
   "metadata": {},
   "outputs": [
    {
     "data": {
      "text/plain": [
       "\"is is my python'practice notebook\""
      ]
     },
     "execution_count": 4,
     "metadata": {},
     "output_type": "execute_result"
    }
   ],
   "source": [
    "msg[2:]"
   ]
  },
  {
   "cell_type": "code",
   "execution_count": 5,
   "id": "819e626d",
   "metadata": {},
   "outputs": [
    {
     "data": {
      "text/plain": [
       "'This '"
      ]
     },
     "execution_count": 5,
     "metadata": {},
     "output_type": "execute_result"
    }
   ],
   "source": [
    "msg[:5]"
   ]
  },
  {
   "cell_type": "code",
   "execution_count": 6,
   "id": "e14b0c38",
   "metadata": {},
   "outputs": [
    {
     "data": {
      "text/plain": [
       "'ok'"
      ]
     },
     "execution_count": 6,
     "metadata": {},
     "output_type": "execute_result"
    }
   ],
   "source": [
    "msg[len(msg)-2:]"
   ]
  },
  {
   "cell_type": "code",
   "execution_count": 7,
   "id": "c296f304",
   "metadata": {},
   "outputs": [
    {
     "data": {
      "text/plain": [
       "35"
      ]
     },
     "execution_count": 7,
     "metadata": {},
     "output_type": "execute_result"
    }
   ],
   "source": [
    "len(msg)"
   ]
  },
  {
   "cell_type": "code",
   "execution_count": 10,
   "id": "fa8e6f5f",
   "metadata": {},
   "outputs": [
    {
     "data": {
      "text/plain": [
       "'k'"
      ]
     },
     "execution_count": 10,
     "metadata": {},
     "output_type": "execute_result"
    }
   ],
   "source": [
    "msg[34:]"
   ]
  },
  {
   "cell_type": "code",
   "execution_count": null,
   "id": "4848e08b",
   "metadata": {},
   "outputs": [],
   "source": [
    "msg[36:]"
   ]
  },
  {
   "cell_type": "code",
   "execution_count": 11,
   "id": "4dd85659",
   "metadata": {},
   "outputs": [
    {
     "data": {
      "text/plain": [
       "\"This is my python'practice notebook\""
      ]
     },
     "execution_count": 11,
     "metadata": {},
     "output_type": "execute_result"
    }
   ],
   "source": [
    "msg[0:900]"
   ]
  },
  {
   "cell_type": "code",
   "execution_count": 17,
   "id": "2bc4b59d",
   "metadata": {},
   "outputs": [
    {
     "data": {
      "text/plain": [
       "''"
      ]
     },
     "execution_count": 17,
     "metadata": {},
     "output_type": "execute_result"
    }
   ],
   "source": [
    "msg[-2:-23:2]"
   ]
  },
  {
   "cell_type": "code",
   "execution_count": 21,
   "id": "6b3cedf2",
   "metadata": {},
   "outputs": [
    {
     "data": {
      "text/plain": [
       "'T'"
      ]
     },
     "execution_count": 21,
     "metadata": {},
     "output_type": "execute_result"
    }
   ],
   "source": [
    "msg[0:-40:-1]"
   ]
  },
  {
   "cell_type": "code",
   "execution_count": 22,
   "id": "2481a635",
   "metadata": {},
   "outputs": [
    {
     "data": {
      "text/plain": [
       "\"This is my python'practice notebook\""
      ]
     },
     "execution_count": 22,
     "metadata": {},
     "output_type": "execute_result"
    }
   ],
   "source": [
    "msg[:]"
   ]
  },
  {
   "cell_type": "code",
   "execution_count": 25,
   "id": "21145577",
   "metadata": {},
   "outputs": [
    {
     "data": {
      "text/plain": [
       "'Ti sm yhnpatc oeok'"
      ]
     },
     "execution_count": 25,
     "metadata": {},
     "output_type": "execute_result"
    }
   ],
   "source": [
    "msg[::2]"
   ]
  },
  {
   "cell_type": "code",
   "execution_count": 28,
   "id": "27d2e4f3",
   "metadata": {},
   "outputs": [
    {
     "data": {
      "text/plain": [
       "'koe'"
      ]
     },
     "execution_count": 28,
     "metadata": {},
     "output_type": "execute_result"
    }
   ],
   "source": [
    "msg[-1:-7:-2]"
   ]
  },
  {
   "cell_type": "code",
   "execution_count": 29,
   "id": "7ce00f9b",
   "metadata": {},
   "outputs": [],
   "source": [
    "name='adi'"
   ]
  },
  {
   "cell_type": "code",
   "execution_count": 30,
   "id": "53c47dc6",
   "metadata": {},
   "outputs": [
    {
     "data": {
      "text/plain": [
       "'adiadiadiadi'"
      ]
     },
     "execution_count": 30,
     "metadata": {},
     "output_type": "execute_result"
    }
   ],
   "source": [
    "name*4"
   ]
  },
  {
   "cell_type": "code",
   "execution_count": 31,
   "id": "377848dc",
   "metadata": {},
   "outputs": [
    {
     "data": {
      "text/plain": [
       "'adi'"
      ]
     },
     "execution_count": 31,
     "metadata": {},
     "output_type": "execute_result"
    }
   ],
   "source": [
    "name"
   ]
  },
  {
   "cell_type": "code",
   "execution_count": 32,
   "id": "7583455a",
   "metadata": {},
   "outputs": [
    {
     "ename": "TypeError",
     "evalue": "unsupported operand type(s) for ** or pow(): 'str' and 'int'",
     "output_type": "error",
     "traceback": [
      "\u001b[0;31m---------------------------------------------------------------------------\u001b[0m",
      "\u001b[0;31mTypeError\u001b[0m                                 Traceback (most recent call last)",
      "\u001b[0;32m/var/folders/xn/lb6lk2_s3jz2fttmdwj87jhw0000gn/T/ipykernel_45136/655963011.py\u001b[0m in \u001b[0;36m<module>\u001b[0;34m\u001b[0m\n\u001b[0;32m----> 1\u001b[0;31m \u001b[0mname\u001b[0m\u001b[0;34m**\u001b[0m\u001b[0;36m2\u001b[0m\u001b[0;34m\u001b[0m\u001b[0;34m\u001b[0m\u001b[0m\n\u001b[0m",
      "\u001b[0;31mTypeError\u001b[0m: unsupported operand type(s) for ** or pow(): 'str' and 'int'"
     ]
    }
   ],
   "source": [
    "name**2"
   ]
  },
  {
   "cell_type": "code",
   "execution_count": 33,
   "id": "158ea4ac",
   "metadata": {},
   "outputs": [],
   "source": [
    "num=234"
   ]
  },
  {
   "cell_type": "code",
   "execution_count": 34,
   "id": "b2a00d5c",
   "metadata": {},
   "outputs": [
    {
     "data": {
      "text/plain": [
       "54756"
      ]
     },
     "execution_count": 34,
     "metadata": {},
     "output_type": "execute_result"
    }
   ],
   "source": [
    "num**2"
   ]
  },
  {
   "cell_type": "code",
   "execution_count": 35,
   "id": "6d3a36c3",
   "metadata": {},
   "outputs": [
    {
     "data": {
      "text/plain": [
       "468"
      ]
     },
     "execution_count": 35,
     "metadata": {},
     "output_type": "execute_result"
    }
   ],
   "source": [
    "num*2"
   ]
  },
  {
   "cell_type": "code",
   "execution_count": 36,
   "id": "cf2888e3",
   "metadata": {},
   "outputs": [
    {
     "ename": "NameError",
     "evalue": "name 'adi' is not defined",
     "output_type": "error",
     "traceback": [
      "\u001b[0;31m---------------------------------------------------------------------------\u001b[0m",
      "\u001b[0;31mNameError\u001b[0m                                 Traceback (most recent call last)",
      "\u001b[0;32m/var/folders/xn/lb6lk2_s3jz2fttmdwj87jhw0000gn/T/ipykernel_45136/540431009.py\u001b[0m in \u001b[0;36m<module>\u001b[0;34m\u001b[0m\n\u001b[0;32m----> 1\u001b[0;31m \u001b[0madi\u001b[0m\u001b[0;34m*\u001b[0m\u001b[0mnum\u001b[0m\u001b[0;34m\u001b[0m\u001b[0;34m\u001b[0m\u001b[0m\n\u001b[0m",
      "\u001b[0;31mNameError\u001b[0m: name 'adi' is not defined"
     ]
    }
   ],
   "source": [
    "adi*num"
   ]
  },
  {
   "cell_type": "code",
   "execution_count": 37,
   "id": "3ad53b5d",
   "metadata": {},
   "outputs": [
    {
     "data": {
      "text/plain": [
       "'adiadiadiadiadiadiadiadiadiadiadiadiadiadiadiadiadiadiadiadiadiadiadiadiadiadiadiadiadiadiadiadiadiadiadiadiadiadiadiadiadiadiadiadiadiadiadiadiadiadiadiadiadiadiadiadiadiadiadiadiadiadiadiadiadiadiadiadiadiadiadiadiadiadiadiadiadiadiadiadiadiadiadiadiadiadiadiadiadiadiadiadiadiadiadiadiadiadiadiadiadiadiadiadiadiadiadiadiadiadiadiadiadiadiadiadiadiadiadiadiadiadiadiadiadiadiadiadiadiadiadiadiadiadiadiadiadiadiadiadiadiadiadiadiadiadiadiadiadiadiadiadiadiadiadiadiadiadiadiadiadiadiadiadiadiadiadiadiadiadiadiadiadiadiadiadiadiadiadiadiadiadiadiadiadiadiadiadiadiadiadiadiadiadiadiadiadiadiadiadiadiadiadiadiadiadiadiadiadiadiadiadiadiadiadiadiadiadiadiadiadiadiadiadiadiadiadiadiadiadiadiadiadiadi'"
      ]
     },
     "execution_count": 37,
     "metadata": {},
     "output_type": "execute_result"
    }
   ],
   "source": [
    "name*num"
   ]
  },
  {
   "cell_type": "code",
   "execution_count": 38,
   "id": "3ad6519c",
   "metadata": {},
   "outputs": [
    {
     "ename": "NameError",
     "evalue": "name 'a' is not defined",
     "output_type": "error",
     "traceback": [
      "\u001b[0;31m---------------------------------------------------------------------------\u001b[0m",
      "\u001b[0;31mNameError\u001b[0m                                 Traceback (most recent call last)",
      "\u001b[0;32m/var/folders/xn/lb6lk2_s3jz2fttmdwj87jhw0000gn/T/ipykernel_45136/3575406651.py\u001b[0m in \u001b[0;36m<module>\u001b[0;34m\u001b[0m\n\u001b[0;32m----> 1\u001b[0;31m \u001b[0mname\u001b[0m\u001b[0;34m[\u001b[0m\u001b[0ma\u001b[0m\u001b[0;34m]\u001b[0m\u001b[0;34m\u001b[0m\u001b[0;34m\u001b[0m\u001b[0m\n\u001b[0m",
      "\u001b[0;31mNameError\u001b[0m: name 'a' is not defined"
     ]
    }
   ],
   "source": [
    "name[a]"
   ]
  },
  {
   "cell_type": "code",
   "execution_count": 39,
   "id": "6261b065",
   "metadata": {},
   "outputs": [
    {
     "ename": "NameError",
     "evalue": "name 'a' is not defined",
     "output_type": "error",
     "traceback": [
      "\u001b[0;31m---------------------------------------------------------------------------\u001b[0m",
      "\u001b[0;31mNameError\u001b[0m                                 Traceback (most recent call last)",
      "\u001b[0;32m/var/folders/xn/lb6lk2_s3jz2fttmdwj87jhw0000gn/T/ipykernel_45136/1214546229.py\u001b[0m in \u001b[0;36m<module>\u001b[0;34m\u001b[0m\n\u001b[0;32m----> 1\u001b[0;31m \u001b[0mname\u001b[0m\u001b[0;34m(\u001b[0m\u001b[0ma\u001b[0m\u001b[0;34m)\u001b[0m\u001b[0;34m\u001b[0m\u001b[0;34m\u001b[0m\u001b[0m\n\u001b[0m",
      "\u001b[0;31mNameError\u001b[0m: name 'a' is not defined"
     ]
    }
   ],
   "source": [
    "name(a)"
   ]
  },
  {
   "cell_type": "code",
   "execution_count": 40,
   "id": "4501240b",
   "metadata": {},
   "outputs": [
    {
     "ename": "NameError",
     "evalue": "name 'd' is not defined",
     "output_type": "error",
     "traceback": [
      "\u001b[0;31m---------------------------------------------------------------------------\u001b[0m",
      "\u001b[0;31mNameError\u001b[0m                                 Traceback (most recent call last)",
      "\u001b[0;32m/var/folders/xn/lb6lk2_s3jz2fttmdwj87jhw0000gn/T/ipykernel_45136/3794407481.py\u001b[0m in \u001b[0;36m<module>\u001b[0;34m\u001b[0m\n\u001b[0;32m----> 1\u001b[0;31m \u001b[0mname\u001b[0m\u001b[0;34m.\u001b[0m\u001b[0mfind\u001b[0m\u001b[0;34m(\u001b[0m\u001b[0md\u001b[0m\u001b[0;34m)\u001b[0m\u001b[0;34m\u001b[0m\u001b[0;34m\u001b[0m\u001b[0m\n\u001b[0m",
      "\u001b[0;31mNameError\u001b[0m: name 'd' is not defined"
     ]
    }
   ],
   "source": [
    "name.find(d)"
   ]
  },
  {
   "cell_type": "code",
   "execution_count": 41,
   "id": "9f5e3d78",
   "metadata": {},
   "outputs": [
    {
     "data": {
      "text/plain": [
       "1"
      ]
     },
     "execution_count": 41,
     "metadata": {},
     "output_type": "execute_result"
    }
   ],
   "source": [
    "name.find('d')"
   ]
  },
  {
   "cell_type": "code",
   "execution_count": 42,
   "id": "d9ab4cdc",
   "metadata": {},
   "outputs": [],
   "source": [
    "typ='Rajat is associate director at sprinklr'"
   ]
  },
  {
   "cell_type": "code",
   "execution_count": 43,
   "id": "07959f64",
   "metadata": {},
   "outputs": [
    {
     "data": {
      "text/plain": [
       "19"
      ]
     },
     "execution_count": 43,
     "metadata": {},
     "output_type": "execute_result"
    }
   ],
   "source": [
    "typ.find('d')"
   ]
  },
  {
   "cell_type": "code",
   "execution_count": 44,
   "id": "847c11f2",
   "metadata": {},
   "outputs": [
    {
     "data": {
      "text/plain": [
       "19"
      ]
     },
     "execution_count": 44,
     "metadata": {},
     "output_type": "execute_result"
    }
   ],
   "source": [
    "typ.find('dire')"
   ]
  },
  {
   "cell_type": "code",
   "execution_count": 45,
   "id": "5bf0f4ad",
   "metadata": {},
   "outputs": [
    {
     "data": {
      "text/plain": [
       "5"
      ]
     },
     "execution_count": 45,
     "metadata": {},
     "output_type": "execute_result"
    }
   ],
   "source": [
    "typ.count('a')"
   ]
  },
  {
   "cell_type": "code",
   "execution_count": 46,
   "id": "a34a1f24",
   "metadata": {},
   "outputs": [
    {
     "data": {
      "text/plain": [
       "['Rajat', 'is', 'associate', 'director', 'at', 'sprinklr']"
      ]
     },
     "execution_count": 46,
     "metadata": {},
     "output_type": "execute_result"
    }
   ],
   "source": [
    "typ.split()"
   ]
  },
  {
   "cell_type": "code",
   "execution_count": 47,
   "id": "8df051e6",
   "metadata": {},
   "outputs": [
    {
     "data": {
      "text/plain": [
       "['R', 'j', 't is ', 'ssoci', 'te director ', 't sprinklr']"
      ]
     },
     "execution_count": 47,
     "metadata": {},
     "output_type": "execute_result"
    }
   ],
   "source": [
    "typ.split('a')"
   ]
  },
  {
   "cell_type": "code",
   "execution_count": 48,
   "id": "f59e77e3",
   "metadata": {},
   "outputs": [],
   "source": [
    "t=typ.split()"
   ]
  },
  {
   "cell_type": "code",
   "execution_count": 49,
   "id": "c3606be3",
   "metadata": {},
   "outputs": [
    {
     "name": "stdout",
     "output_type": "stream",
     "text": [
      "['Rajat', 'is', 'associate', 'director', 'at', 'sprinklr']\n"
     ]
    }
   ],
   "source": [
    "print(t)"
   ]
  },
  {
   "cell_type": "code",
   "execution_count": 50,
   "id": "5431b906",
   "metadata": {},
   "outputs": [
    {
     "data": {
      "text/plain": [
       "'director'"
      ]
     },
     "execution_count": 50,
     "metadata": {},
     "output_type": "execute_result"
    }
   ],
   "source": [
    "t[3]"
   ]
  },
  {
   "cell_type": "code",
   "execution_count": 1,
   "id": "593e6974",
   "metadata": {},
   "outputs": [],
   "source": [
    "s='aDitya'"
   ]
  },
  {
   "cell_type": "code",
   "execution_count": 2,
   "id": "1abb686f",
   "metadata": {},
   "outputs": [
    {
     "data": {
      "text/plain": [
       "'AdITYA'"
      ]
     },
     "execution_count": 2,
     "metadata": {},
     "output_type": "execute_result"
    }
   ],
   "source": [
    "s.swapcase()"
   ]
  },
  {
   "cell_type": "code",
   "execution_count": 3,
   "id": "36d3692c",
   "metadata": {},
   "outputs": [
    {
     "data": {
      "text/plain": [
       "'Aditya'"
      ]
     },
     "execution_count": 3,
     "metadata": {},
     "output_type": "execute_result"
    }
   ],
   "source": [
    "s.capitalize()"
   ]
  },
  {
   "cell_type": "code",
   "execution_count": 4,
   "id": "59168301",
   "metadata": {},
   "outputs": [
    {
     "data": {
      "text/plain": [
       "'Aditya'"
      ]
     },
     "execution_count": 4,
     "metadata": {},
     "output_type": "execute_result"
    }
   ],
   "source": [
    "s.title()"
   ]
  },
  {
   "cell_type": "code",
   "execution_count": 5,
   "id": "126780e4",
   "metadata": {},
   "outputs": [],
   "source": [
    "s='hello! my name is aditya kumar'"
   ]
  },
  {
   "cell_type": "code",
   "execution_count": 6,
   "id": "deb5ef66",
   "metadata": {},
   "outputs": [
    {
     "data": {
      "text/plain": [
       "'Hello! my name is aditya kumar'"
      ]
     },
     "execution_count": 6,
     "metadata": {},
     "output_type": "execute_result"
    }
   ],
   "source": [
    "s.capitalize()"
   ]
  },
  {
   "cell_type": "code",
   "execution_count": 7,
   "id": "799d535e",
   "metadata": {},
   "outputs": [
    {
     "data": {
      "text/plain": [
       "'Hello! My Name Is Aditya Kumar'"
      ]
     },
     "execution_count": 7,
     "metadata": {},
     "output_type": "execute_result"
    }
   ],
   "source": [
    "s.title()"
   ]
  },
  {
   "cell_type": "code",
   "execution_count": 8,
   "id": "39079862",
   "metadata": {},
   "outputs": [],
   "source": [
    "t='kumar'"
   ]
  },
  {
   "cell_type": "code",
   "execution_count": 9,
   "id": "dc074caa",
   "metadata": {},
   "outputs": [
    {
     "data": {
      "text/plain": [
       "'khello! my name is aditya kumaruhello! my name is aditya kumarmhello! my name is aditya kumarahello! my name is aditya kumarr'"
      ]
     },
     "execution_count": 9,
     "metadata": {},
     "output_type": "execute_result"
    }
   ],
   "source": [
    "s.join(t)"
   ]
  },
  {
   "cell_type": "code",
   "execution_count": 10,
   "id": "617a185e",
   "metadata": {},
   "outputs": [],
   "source": [
    "s='aditya'"
   ]
  },
  {
   "cell_type": "code",
   "execution_count": 11,
   "id": "88062c4e",
   "metadata": {},
   "outputs": [
    {
     "data": {
      "text/plain": [
       "'kadityauadityamadityaaadityar'"
      ]
     },
     "execution_count": 11,
     "metadata": {},
     "output_type": "execute_result"
    }
   ],
   "source": [
    "s.join(t)"
   ]
  },
  {
   "cell_type": "code",
   "execution_count": 12,
   "id": "2f8af9f4",
   "metadata": {},
   "outputs": [],
   "source": [
    "a=' aditya '"
   ]
  },
  {
   "cell_type": "code",
   "execution_count": 13,
   "id": "50cb4b43",
   "metadata": {},
   "outputs": [
    {
     "data": {
      "text/plain": [
       "'aditya'"
      ]
     },
     "execution_count": 13,
     "metadata": {},
     "output_type": "execute_result"
    }
   ],
   "source": [
    "a.strip()"
   ]
  },
  {
   "cell_type": "code",
   "execution_count": 14,
   "id": "ab05bab5",
   "metadata": {},
   "outputs": [
    {
     "data": {
      "text/plain": [
       "' aditya '"
      ]
     },
     "execution_count": 14,
     "metadata": {},
     "output_type": "execute_result"
    }
   ],
   "source": [
    "a"
   ]
  },
  {
   "cell_type": "code",
   "execution_count": 18,
   "id": "deb8f59c",
   "metadata": {},
   "outputs": [
    {
     "data": {
      "text/plain": [
       "'Aditya'"
      ]
     },
     "execution_count": 18,
     "metadata": {},
     "output_type": "execute_result"
    }
   ],
   "source": [
    "a.strip().title()"
   ]
  },
  {
   "cell_type": "code",
   "execution_count": 19,
   "id": "169690fa",
   "metadata": {},
   "outputs": [
    {
     "data": {
      "text/plain": [
       "' aditya '"
      ]
     },
     "execution_count": 19,
     "metadata": {},
     "output_type": "execute_result"
    }
   ],
   "source": [
    "a"
   ]
  },
  {
   "cell_type": "code",
   "execution_count": 20,
   "id": "0788e035",
   "metadata": {},
   "outputs": [],
   "source": [
    "a='Aditya'"
   ]
  },
  {
   "cell_type": "code",
   "execution_count": 23,
   "id": "4ae1ca9c",
   "metadata": {},
   "outputs": [
    {
     "data": {
      "text/plain": [
       "'  ditya'"
      ]
     },
     "execution_count": 23,
     "metadata": {},
     "output_type": "execute_result"
    }
   ],
   "source": [
    "a.replace('A','  ')"
   ]
  },
  {
   "cell_type": "code",
   "execution_count": 29,
   "id": "4d5cc4d7",
   "metadata": {},
   "outputs": [
    {
     "data": {
      "text/plain": [
       "'**************Aditya Kumar**************'"
      ]
     },
     "execution_count": 29,
     "metadata": {},
     "output_type": "execute_result"
    }
   ],
   "source": [
    "(a+' Kumar').center(40,'*')"
   ]
  },
  {
   "cell_type": "code",
   "execution_count": 30,
   "id": "d43b29a0",
   "metadata": {},
   "outputs": [
    {
     "data": {
      "text/plain": [
       "b'Aditya'"
      ]
     },
     "execution_count": 30,
     "metadata": {},
     "output_type": "execute_result"
    }
   ],
   "source": [
    "a.encode()"
   ]
  },
  {
   "cell_type": "code",
   "execution_count": 31,
   "id": "78515b80",
   "metadata": {},
   "outputs": [],
   "source": [
    "l=['Aditya',2345,2+8j,334.56,False]"
   ]
  },
  {
   "cell_type": "code",
   "execution_count": 32,
   "id": "6bc9f7d0",
   "metadata": {},
   "outputs": [
    {
     "data": {
      "text/plain": [
       "[False, 334.56, (2+8j), 2345, 'Aditya']"
      ]
     },
     "execution_count": 32,
     "metadata": {},
     "output_type": "execute_result"
    }
   ],
   "source": [
    "l[::-1]"
   ]
  },
  {
   "cell_type": "code",
   "execution_count": 33,
   "id": "6807f6fa",
   "metadata": {},
   "outputs": [
    {
     "data": {
      "text/plain": [
       "['Aditya', (2+8j), False]"
      ]
     },
     "execution_count": 33,
     "metadata": {},
     "output_type": "execute_result"
    }
   ],
   "source": [
    "l[:5:2]"
   ]
  },
  {
   "cell_type": "code",
   "execution_count": 34,
   "id": "afc8218d",
   "metadata": {},
   "outputs": [
    {
     "data": {
      "text/plain": [
       "[]"
      ]
     },
     "execution_count": 34,
     "metadata": {},
     "output_type": "execute_result"
    }
   ],
   "source": [
    "l[:5:-1]"
   ]
  },
  {
   "cell_type": "code",
   "execution_count": 35,
   "id": "2d10e77c",
   "metadata": {},
   "outputs": [
    {
     "data": {
      "text/plain": [
       "[]"
      ]
     },
     "execution_count": 35,
     "metadata": {},
     "output_type": "execute_result"
    }
   ],
   "source": [
    "l[:5:-1]"
   ]
  },
  {
   "cell_type": "code",
   "execution_count": 38,
   "id": "2f9d0d70",
   "metadata": {},
   "outputs": [
    {
     "data": {
      "text/plain": [
       "[2345, (2+8j), 334.56, False]"
      ]
     },
     "execution_count": 38,
     "metadata": {},
     "output_type": "execute_result"
    }
   ],
   "source": [
    "l[-4:5]"
   ]
  },
  {
   "cell_type": "code",
   "execution_count": 39,
   "id": "1f653d1b",
   "metadata": {},
   "outputs": [
    {
     "data": {
      "text/plain": [
       "'Aditya'"
      ]
     },
     "execution_count": 39,
     "metadata": {},
     "output_type": "execute_result"
    }
   ],
   "source": [
    "l[0]"
   ]
  },
  {
   "cell_type": "code",
   "execution_count": 40,
   "id": "ec5e3698",
   "metadata": {},
   "outputs": [
    {
     "data": {
      "text/plain": [
       "'t'"
      ]
     },
     "execution_count": 40,
     "metadata": {},
     "output_type": "execute_result"
    }
   ],
   "source": [
    "l[0][3]"
   ]
  },
  {
   "cell_type": "code",
   "execution_count": 43,
   "id": "ab3d074a",
   "metadata": {},
   "outputs": [
    {
     "data": {
      "text/plain": [
       "2345"
      ]
     },
     "execution_count": 43,
     "metadata": {},
     "output_type": "execute_result"
    }
   ],
   "source": [
    "l[1]"
   ]
  },
  {
   "cell_type": "code",
   "execution_count": 44,
   "id": "c4839f5f",
   "metadata": {},
   "outputs": [
    {
     "data": {
      "text/plain": [
       "['Aditya', 2345, (2+8j), 334.56, False]"
      ]
     },
     "execution_count": 44,
     "metadata": {},
     "output_type": "execute_result"
    }
   ],
   "source": [
    "l"
   ]
  },
  {
   "cell_type": "code",
   "execution_count": 45,
   "id": "e3444d43",
   "metadata": {},
   "outputs": [
    {
     "data": {
      "text/plain": [
       "(2+8j)"
      ]
     },
     "execution_count": 45,
     "metadata": {},
     "output_type": "execute_result"
    }
   ],
   "source": [
    "l[2]"
   ]
  },
  {
   "cell_type": "code",
   "execution_count": 50,
   "id": "fc13b8e4",
   "metadata": {},
   "outputs": [
    {
     "data": {
      "text/plain": [
       "(2-8j)"
      ]
     },
     "execution_count": 50,
     "metadata": {},
     "output_type": "execute_result"
    }
   ],
   "source": [
    "l[2].conjugate()"
   ]
  },
  {
   "cell_type": "code",
   "execution_count": 51,
   "id": "f6676c54",
   "metadata": {},
   "outputs": [
    {
     "data": {
      "text/plain": [
       "['Aditya', 2345, (2+8j), 334.56, False, 'Aditya', 2345, (2+8j), 334.56, False]"
      ]
     },
     "execution_count": 51,
     "metadata": {},
     "output_type": "execute_result"
    }
   ],
   "source": [
    "l*2"
   ]
  },
  {
   "cell_type": "code",
   "execution_count": 56,
   "id": "2598fc25",
   "metadata": {},
   "outputs": [
    {
     "data": {
      "text/plain": [
       "['Aditya', 2345, (2+8j), 334.56, False, 'Aditya', 2345, (2+8j), 334.56, False]"
      ]
     },
     "execution_count": 56,
     "metadata": {},
     "output_type": "execute_result"
    }
   ],
   "source": [
    "l*2"
   ]
  },
  {
   "cell_type": "code",
   "execution_count": 57,
   "id": "02e69e7b",
   "metadata": {},
   "outputs": [
    {
     "data": {
      "text/plain": [
       "['Aditya', 2345, (2+8j), 334.56, False]"
      ]
     },
     "execution_count": 57,
     "metadata": {},
     "output_type": "execute_result"
    }
   ],
   "source": [
    "l"
   ]
  },
  {
   "cell_type": "code",
   "execution_count": 58,
   "id": "ae101f4a",
   "metadata": {},
   "outputs": [],
   "source": [
    "l[0]='kumar'"
   ]
  },
  {
   "cell_type": "code",
   "execution_count": 59,
   "id": "fb31ba03",
   "metadata": {},
   "outputs": [
    {
     "data": {
      "text/plain": [
       "['kumar', 2345, (2+8j), 334.56, False]"
      ]
     },
     "execution_count": 59,
     "metadata": {},
     "output_type": "execute_result"
    }
   ],
   "source": [
    "l"
   ]
  },
  {
   "cell_type": "code",
   "execution_count": 66,
   "id": "ceed15f6",
   "metadata": {},
   "outputs": [],
   "source": [
    "l.clear()"
   ]
  },
  {
   "cell_type": "code",
   "execution_count": 67,
   "id": "003c7211",
   "metadata": {},
   "outputs": [
    {
     "data": {
      "text/plain": [
       "[]"
      ]
     },
     "execution_count": 67,
     "metadata": {},
     "output_type": "execute_result"
    }
   ],
   "source": [
    "l"
   ]
  },
  {
   "cell_type": "code",
   "execution_count": 68,
   "id": "8b54b09a",
   "metadata": {},
   "outputs": [
    {
     "data": {
      "text/plain": [
       "[]"
      ]
     },
     "execution_count": 68,
     "metadata": {},
     "output_type": "execute_result"
    }
   ],
   "source": [
    "l"
   ]
  },
  {
   "cell_type": "code",
   "execution_count": 69,
   "id": "049ee376",
   "metadata": {},
   "outputs": [],
   "source": [
    "l=['aditya','kumar',1242,True,3+4j]"
   ]
  },
  {
   "cell_type": "code",
   "execution_count": 74,
   "id": "76ca7f51",
   "metadata": {},
   "outputs": [],
   "source": [
    "l[1]=l[1].replace('k','m')"
   ]
  },
  {
   "cell_type": "code",
   "execution_count": 75,
   "id": "7ccd23cc",
   "metadata": {},
   "outputs": [
    {
     "data": {
      "text/plain": [
       "['aditya', 'mumar', 1242, True, (3+4j)]"
      ]
     },
     "execution_count": 75,
     "metadata": {},
     "output_type": "execute_result"
    }
   ],
   "source": [
    "l"
   ]
  },
  {
   "cell_type": "code",
   "execution_count": 79,
   "id": "34654c0a",
   "metadata": {},
   "outputs": [
    {
     "data": {
      "text/plain": [
       "'m'"
      ]
     },
     "execution_count": 79,
     "metadata": {},
     "output_type": "execute_result"
    }
   ],
   "source": [
    "l[1][0]"
   ]
  },
  {
   "cell_type": "code",
   "execution_count": 77,
   "id": "39990e71",
   "metadata": {},
   "outputs": [],
   "source": [
    "a='aditya'"
   ]
  },
  {
   "cell_type": "code",
   "execution_count": 81,
   "id": "d846f303",
   "metadata": {},
   "outputs": [
    {
     "data": {
      "text/plain": [
       "['aditya', 'mumar', 1242, True, (3+4j)]"
      ]
     },
     "execution_count": 81,
     "metadata": {},
     "output_type": "execute_result"
    }
   ],
   "source": [
    "l"
   ]
  },
  {
   "cell_type": "code",
   "execution_count": 82,
   "id": "0daddea6",
   "metadata": {},
   "outputs": [
    {
     "data": {
      "text/plain": [
       "True"
      ]
     },
     "execution_count": 82,
     "metadata": {},
     "output_type": "execute_result"
    }
   ],
   "source": [
    "l.pop(3)"
   ]
  },
  {
   "cell_type": "code",
   "execution_count": 83,
   "id": "99b5399f",
   "metadata": {},
   "outputs": [
    {
     "data": {
      "text/plain": [
       "['aditya', 'mumar', 1242, (3+4j)]"
      ]
     },
     "execution_count": 83,
     "metadata": {},
     "output_type": "execute_result"
    }
   ],
   "source": [
    "l"
   ]
  },
  {
   "cell_type": "code",
   "execution_count": 84,
   "id": "3a78c86e",
   "metadata": {},
   "outputs": [],
   "source": [
    "l.remove('mumar')"
   ]
  },
  {
   "cell_type": "code",
   "execution_count": 85,
   "id": "0b29b827",
   "metadata": {},
   "outputs": [
    {
     "data": {
      "text/plain": [
       "['aditya', 1242, (3+4j)]"
      ]
     },
     "execution_count": 85,
     "metadata": {},
     "output_type": "execute_result"
    }
   ],
   "source": [
    "l"
   ]
  },
  {
   "cell_type": "code",
   "execution_count": 98,
   "id": "5ce47468",
   "metadata": {},
   "outputs": [],
   "source": [
    "l.reverse()"
   ]
  },
  {
   "cell_type": "code",
   "execution_count": 94,
   "id": "f06fa665",
   "metadata": {},
   "outputs": [
    {
     "data": {
      "text/plain": [
       "[(3+4j), 1242, 'aditya']"
      ]
     },
     "execution_count": 94,
     "metadata": {},
     "output_type": "execute_result"
    }
   ],
   "source": [
    "l"
   ]
  },
  {
   "cell_type": "code",
   "execution_count": 95,
   "id": "ba9eb3f1",
   "metadata": {},
   "outputs": [
    {
     "data": {
      "text/plain": [
       "1"
      ]
     },
     "execution_count": 95,
     "metadata": {},
     "output_type": "execute_result"
    }
   ],
   "source": [
    "l.count('aditya')"
   ]
  },
  {
   "cell_type": "code",
   "execution_count": 96,
   "id": "9d0ba8e8",
   "metadata": {},
   "outputs": [
    {
     "data": {
      "text/plain": [
       "0"
      ]
     },
     "execution_count": 96,
     "metadata": {},
     "output_type": "execute_result"
    }
   ],
   "source": [
    "l.count('a')"
   ]
  },
  {
   "cell_type": "code",
   "execution_count": 99,
   "id": "a02a1517",
   "metadata": {},
   "outputs": [
    {
     "data": {
      "text/plain": [
       "[(3+4j), 1242, 'aditya']"
      ]
     },
     "execution_count": 99,
     "metadata": {},
     "output_type": "execute_result"
    }
   ],
   "source": [
    "l"
   ]
  },
  {
   "cell_type": "code",
   "execution_count": 100,
   "id": "d2252be5",
   "metadata": {},
   "outputs": [],
   "source": [
    "l.reverse()"
   ]
  },
  {
   "cell_type": "code",
   "execution_count": 101,
   "id": "3bb02cde",
   "metadata": {},
   "outputs": [
    {
     "data": {
      "text/plain": [
       "['aditya', 1242, (3+4j)]"
      ]
     },
     "execution_count": 101,
     "metadata": {},
     "output_type": "execute_result"
    }
   ],
   "source": [
    "l"
   ]
  },
  {
   "cell_type": "code",
   "execution_count": 103,
   "id": "40ed76d6",
   "metadata": {},
   "outputs": [
    {
     "name": "stdout",
     "output_type": "stream",
     "text": [
      "None\n"
     ]
    }
   ],
   "source": [
    "print(l.reverse())"
   ]
  },
  {
   "cell_type": "code",
   "execution_count": 106,
   "id": "f3136efe",
   "metadata": {},
   "outputs": [],
   "source": [
    "l='cajsofba   anoasn apncoacis'"
   ]
  },
  {
   "cell_type": "code",
   "execution_count": 107,
   "id": "97513cce",
   "metadata": {},
   "outputs": [
    {
     "data": {
      "text/plain": [
       "'cajsofba   anoasn apncoacis'"
      ]
     },
     "execution_count": 107,
     "metadata": {},
     "output_type": "execute_result"
    }
   ],
   "source": [
    "l.expandtabs()"
   ]
  },
  {
   "cell_type": "code",
   "execution_count": 1,
   "id": "04065a9c",
   "metadata": {},
   "outputs": [],
   "source": [
    "t=(1,3,'aditya')"
   ]
  },
  {
   "cell_type": "code",
   "execution_count": 2,
   "id": "a47e82f5",
   "metadata": {},
   "outputs": [
    {
     "data": {
      "text/plain": [
       "tuple"
      ]
     },
     "execution_count": 2,
     "metadata": {},
     "output_type": "execute_result"
    }
   ],
   "source": [
    "type(t)"
   ]
  },
  {
   "cell_type": "code",
   "execution_count": 3,
   "id": "5f6dd82f",
   "metadata": {},
   "outputs": [
    {
     "data": {
      "text/plain": [
       "('aditya', 3, 1)"
      ]
     },
     "execution_count": 3,
     "metadata": {},
     "output_type": "execute_result"
    }
   ],
   "source": [
    "t[::-1]"
   ]
  },
  {
   "cell_type": "code",
   "execution_count": 4,
   "id": "8b8b08e9",
   "metadata": {},
   "outputs": [
    {
     "data": {
      "text/plain": [
       "(1, 3, 'aditya')"
      ]
     },
     "execution_count": 4,
     "metadata": {},
     "output_type": "execute_result"
    }
   ],
   "source": [
    "t"
   ]
  },
  {
   "cell_type": "code",
   "execution_count": 6,
   "id": "e9f6dbc5",
   "metadata": {},
   "outputs": [
    {
     "data": {
      "text/plain": [
       "2"
      ]
     },
     "execution_count": 6,
     "metadata": {},
     "output_type": "execute_result"
    }
   ],
   "source": [
    "t.index('aditya')"
   ]
  },
  {
   "cell_type": "code",
   "execution_count": 7,
   "id": "d2879ee6",
   "metadata": {},
   "outputs": [],
   "source": [
    "name='aditya'"
   ]
  },
  {
   "cell_type": "code",
   "execution_count": 8,
   "id": "e2b3c1c1",
   "metadata": {},
   "outputs": [
    {
     "data": {
      "text/plain": [
       "'tdityt'"
      ]
     },
     "execution_count": 8,
     "metadata": {},
     "output_type": "execute_result"
    }
   ],
   "source": [
    "name.replace('a','t')"
   ]
  },
  {
   "cell_type": "code",
   "execution_count": 9,
   "id": "c0d6021a",
   "metadata": {},
   "outputs": [
    {
     "data": {
      "text/plain": [
       "'aditya'"
      ]
     },
     "execution_count": 9,
     "metadata": {},
     "output_type": "execute_result"
    }
   ],
   "source": [
    "name"
   ]
  },
  {
   "cell_type": "code",
   "execution_count": 1,
   "id": "9ae0a3c5",
   "metadata": {},
   "outputs": [],
   "source": [
    "l=[1,4,6,5,7,4,3,5,7,3,6,2,7,8,9,5,6,5,4,6]"
   ]
  },
  {
   "cell_type": "code",
   "execution_count": 2,
   "id": "d767f615",
   "metadata": {},
   "outputs": [
    {
     "data": {
      "text/plain": [
       "20"
      ]
     },
     "execution_count": 2,
     "metadata": {},
     "output_type": "execute_result"
    }
   ],
   "source": [
    "len(l)"
   ]
  },
  {
   "cell_type": "code",
   "execution_count": 7,
   "id": "44bed915",
   "metadata": {},
   "outputs": [
    {
     "name": "stdout",
     "output_type": "stream",
     "text": [
      "None\n"
     ]
    }
   ],
   "source": [
    "print(l.reverse())"
   ]
  },
  {
   "cell_type": "code",
   "execution_count": 8,
   "id": "d44508d4",
   "metadata": {},
   "outputs": [
    {
     "data": {
      "text/plain": [
       "[6, 4, 5, 6, 5, 9, 8, 7, 2, 6, 3, 7, 5, 3, 4, 7, 5, 6, 4, 1]"
      ]
     },
     "execution_count": 8,
     "metadata": {},
     "output_type": "execute_result"
    }
   ],
   "source": [
    "l"
   ]
  },
  {
   "cell_type": "code",
   "execution_count": 9,
   "id": "b81e3bf5",
   "metadata": {},
   "outputs": [
    {
     "data": {
      "text/plain": [
       "{1, 2, 3, 4, 5, 6, 7, 8, 9}"
      ]
     },
     "execution_count": 9,
     "metadata": {},
     "output_type": "execute_result"
    }
   ],
   "source": [
    "set(l)"
   ]
  },
  {
   "cell_type": "code",
   "execution_count": 10,
   "id": "4c579646",
   "metadata": {},
   "outputs": [],
   "source": [
    "s={}"
   ]
  },
  {
   "cell_type": "code",
   "execution_count": 11,
   "id": "b5281614",
   "metadata": {},
   "outputs": [
    {
     "data": {
      "text/plain": [
       "dict"
      ]
     },
     "execution_count": 11,
     "metadata": {},
     "output_type": "execute_result"
    }
   ],
   "source": [
    "type(s)"
   ]
  },
  {
   "cell_type": "code",
   "execution_count": 12,
   "id": "1df0ebb5",
   "metadata": {},
   "outputs": [],
   "source": [
    "s={2,3,4}"
   ]
  },
  {
   "cell_type": "code",
   "execution_count": 14,
   "id": "002f7dde",
   "metadata": {},
   "outputs": [
    {
     "data": {
      "text/plain": [
       "set"
      ]
     },
     "execution_count": 14,
     "metadata": {},
     "output_type": "execute_result"
    }
   ],
   "source": [
    "type(s)"
   ]
  },
  {
   "cell_type": "code",
   "execution_count": 15,
   "id": "8be22ca6",
   "metadata": {},
   "outputs": [
    {
     "data": {
      "text/plain": [
       "[6, 4, 5, 6, 5, 9, 8, 7, 2, 6, 3, 7, 5, 3, 4, 7, 5, 6, 4, 1]"
      ]
     },
     "execution_count": 15,
     "metadata": {},
     "output_type": "execute_result"
    }
   ],
   "source": [
    "l"
   ]
  },
  {
   "cell_type": "code",
   "execution_count": 16,
   "id": "4c30c05e",
   "metadata": {},
   "outputs": [
    {
     "data": {
      "text/plain": [
       "{2, 3, 4}"
      ]
     },
     "execution_count": 16,
     "metadata": {},
     "output_type": "execute_result"
    }
   ],
   "source": [
    "s"
   ]
  },
  {
   "cell_type": "code",
   "execution_count": 17,
   "id": "c3303217",
   "metadata": {},
   "outputs": [],
   "source": [
    "s={2,3,5,4,2,3,6,7,8,4,5,3,2,4,5,6,7,5,3,2,1}"
   ]
  },
  {
   "cell_type": "code",
   "execution_count": 18,
   "id": "30714e3e",
   "metadata": {},
   "outputs": [
    {
     "data": {
      "text/plain": [
       "{1, 2, 3, 4, 5, 6, 7, 8}"
      ]
     },
     "execution_count": 18,
     "metadata": {},
     "output_type": "execute_result"
    }
   ],
   "source": [
    "s"
   ]
  },
  {
   "cell_type": "code",
   "execution_count": 19,
   "id": "d3b8ada1",
   "metadata": {},
   "outputs": [
    {
     "ename": "TypeError",
     "evalue": "'set' object is not subscriptable",
     "output_type": "error",
     "traceback": [
      "\u001b[0;31m---------------------------------------------------------------------------\u001b[0m",
      "\u001b[0;31mTypeError\u001b[0m                                 Traceback (most recent call last)",
      "\u001b[0;32m/var/folders/xn/lb6lk2_s3jz2fttmdwj87jhw0000gn/T/ipykernel_6358/878419959.py\u001b[0m in \u001b[0;36m<module>\u001b[0;34m\u001b[0m\n\u001b[0;32m----> 1\u001b[0;31m \u001b[0ms\u001b[0m\u001b[0;34m[\u001b[0m\u001b[0;36m1\u001b[0m\u001b[0;34m]\u001b[0m\u001b[0;34m\u001b[0m\u001b[0;34m\u001b[0m\u001b[0m\n\u001b[0m",
      "\u001b[0;31mTypeError\u001b[0m: 'set' object is not subscriptable"
     ]
    }
   ],
   "source": [
    "s[1]"
   ]
  },
  {
   "cell_type": "code",
   "execution_count": 20,
   "id": "bf6ebec2",
   "metadata": {},
   "outputs": [],
   "source": [
    "s.add('adi')"
   ]
  },
  {
   "cell_type": "code",
   "execution_count": 21,
   "id": "ecbcf2d3",
   "metadata": {},
   "outputs": [
    {
     "data": {
      "text/plain": [
       "{1, 2, 3, 4, 5, 6, 7, 8, 'adi'}"
      ]
     },
     "execution_count": 21,
     "metadata": {},
     "output_type": "execute_result"
    }
   ],
   "source": [
    "s"
   ]
  },
  {
   "cell_type": "code",
   "execution_count": 22,
   "id": "6796f563",
   "metadata": {},
   "outputs": [],
   "source": [
    "f={'adi','Adi'}"
   ]
  },
  {
   "cell_type": "code",
   "execution_count": 23,
   "id": "cdba2fa9",
   "metadata": {},
   "outputs": [
    {
     "data": {
      "text/plain": [
       "{'Adi', 'adi'}"
      ]
     },
     "execution_count": 23,
     "metadata": {},
     "output_type": "execute_result"
    }
   ],
   "source": [
    "f"
   ]
  },
  {
   "cell_type": "code",
   "execution_count": 41,
   "id": "8e779e3c",
   "metadata": {},
   "outputs": [],
   "source": [
    "t=(2,34,5,6,2,4)"
   ]
  },
  {
   "cell_type": "code",
   "execution_count": 25,
   "id": "4a5dec72",
   "metadata": {},
   "outputs": [
    {
     "data": {
      "text/plain": [
       "[2, 34, 5, 6, 2, 4]"
      ]
     },
     "execution_count": 25,
     "metadata": {},
     "output_type": "execute_result"
    }
   ],
   "source": [
    "list(t)"
   ]
  },
  {
   "cell_type": "code",
   "execution_count": 26,
   "id": "c73d5548",
   "metadata": {},
   "outputs": [
    {
     "data": {
      "text/plain": [
       "(2, 34, 5, 6, 2, 4)"
      ]
     },
     "execution_count": 26,
     "metadata": {},
     "output_type": "execute_result"
    }
   ],
   "source": [
    "t"
   ]
  },
  {
   "cell_type": "code",
   "execution_count": 27,
   "id": "c98a64f4",
   "metadata": {},
   "outputs": [],
   "source": [
    "a=list(t)"
   ]
  },
  {
   "cell_type": "code",
   "execution_count": 28,
   "id": "c04e0bbb",
   "metadata": {},
   "outputs": [
    {
     "data": {
      "text/plain": [
       "[2, 34, 5, 6, 2, 4]"
      ]
     },
     "execution_count": 28,
     "metadata": {},
     "output_type": "execute_result"
    }
   ],
   "source": [
    "a"
   ]
  },
  {
   "cell_type": "code",
   "execution_count": 29,
   "id": "544cc46f",
   "metadata": {},
   "outputs": [
    {
     "data": {
      "text/plain": [
       "(2, 34, 5, 6, 2, 4)"
      ]
     },
     "execution_count": 29,
     "metadata": {},
     "output_type": "execute_result"
    }
   ],
   "source": [
    "t"
   ]
  },
  {
   "cell_type": "code",
   "execution_count": 30,
   "id": "7273cc6a",
   "metadata": {},
   "outputs": [],
   "source": [
    "a.reverse()"
   ]
  },
  {
   "cell_type": "code",
   "execution_count": 31,
   "id": "148f1160",
   "metadata": {},
   "outputs": [
    {
     "data": {
      "text/plain": [
       "[4, 2, 6, 5, 34, 2]"
      ]
     },
     "execution_count": 31,
     "metadata": {},
     "output_type": "execute_result"
    }
   ],
   "source": [
    "a"
   ]
  },
  {
   "cell_type": "code",
   "execution_count": 33,
   "id": "7f112406",
   "metadata": {},
   "outputs": [],
   "source": [
    "d={'a':['abfqha','abkas','ahbc']}"
   ]
  },
  {
   "cell_type": "code",
   "execution_count": 34,
   "id": "be048c3c",
   "metadata": {},
   "outputs": [
    {
     "ename": "TypeError",
     "evalue": "unhashable type: 'list'",
     "output_type": "error",
     "traceback": [
      "\u001b[0;31m---------------------------------------------------------------------------\u001b[0m",
      "\u001b[0;31mTypeError\u001b[0m                                 Traceback (most recent call last)",
      "\u001b[0;32m/var/folders/xn/lb6lk2_s3jz2fttmdwj87jhw0000gn/T/ipykernel_6358/1980690846.py\u001b[0m in \u001b[0;36m<module>\u001b[0;34m\u001b[0m\n\u001b[0;32m----> 1\u001b[0;31m \u001b[0md\u001b[0m\u001b[0;34m[\u001b[0m\u001b[0ma\u001b[0m\u001b[0;34m]\u001b[0m\u001b[0;34m\u001b[0m\u001b[0;34m\u001b[0m\u001b[0m\n\u001b[0m",
      "\u001b[0;31mTypeError\u001b[0m: unhashable type: 'list'"
     ]
    }
   ],
   "source": [
    "d[a]"
   ]
  },
  {
   "cell_type": "code",
   "execution_count": 35,
   "id": "b3c63b63",
   "metadata": {},
   "outputs": [
    {
     "data": {
      "text/plain": [
       "['abfqha', 'abkas', 'ahbc']"
      ]
     },
     "execution_count": 35,
     "metadata": {},
     "output_type": "execute_result"
    }
   ],
   "source": [
    "d['a']"
   ]
  },
  {
   "cell_type": "code",
   "execution_count": 36,
   "id": "ce74f52e",
   "metadata": {},
   "outputs": [],
   "source": [
    "d={.4:2412}"
   ]
  },
  {
   "cell_type": "code",
   "execution_count": 37,
   "id": "52a0dee9",
   "metadata": {},
   "outputs": [
    {
     "data": {
      "text/plain": [
       "2412"
      ]
     },
     "execution_count": 37,
     "metadata": {},
     "output_type": "execute_result"
    }
   ],
   "source": [
    "d[.4]"
   ]
  },
  {
   "cell_type": "code",
   "execution_count": 38,
   "id": "fcdd4155",
   "metadata": {},
   "outputs": [
    {
     "data": {
      "text/plain": [
       "dict"
      ]
     },
     "execution_count": 38,
     "metadata": {},
     "output_type": "execute_result"
    }
   ],
   "source": [
    "type(d)"
   ]
  },
  {
   "cell_type": "code",
   "execution_count": 44,
   "id": "40b26eaf",
   "metadata": {},
   "outputs": [],
   "source": [
    "d={'key1':2,'key2':2,'key3':2}"
   ]
  },
  {
   "cell_type": "code",
   "execution_count": 40,
   "id": "9eb5c521",
   "metadata": {},
   "outputs": [
    {
     "data": {
      "text/plain": [
       "23"
      ]
     },
     "execution_count": 40,
     "metadata": {},
     "output_type": "execute_result"
    }
   ],
   "source": [
    "d['key1']"
   ]
  },
  {
   "cell_type": "code",
   "execution_count": 42,
   "id": "2e2a8a9d",
   "metadata": {},
   "outputs": [],
   "source": [
    "a={23,'afda'}"
   ]
  },
  {
   "cell_type": "code",
   "execution_count": 43,
   "id": "b3ada11e",
   "metadata": {},
   "outputs": [
    {
     "data": {
      "text/plain": [
       "set"
      ]
     },
     "execution_count": 43,
     "metadata": {},
     "output_type": "execute_result"
    }
   ],
   "source": [
    "type(a)"
   ]
  },
  {
   "cell_type": "code",
   "execution_count": 45,
   "id": "dc5aa0bb",
   "metadata": {},
   "outputs": [
    {
     "data": {
      "text/plain": [
       "{'key1': 2, 'key2': 2, 'key3': 2}"
      ]
     },
     "execution_count": 45,
     "metadata": {},
     "output_type": "execute_result"
    }
   ],
   "source": [
    "d"
   ]
  },
  {
   "cell_type": "code",
   "execution_count": 46,
   "id": "a4532466",
   "metadata": {},
   "outputs": [
    {
     "data": {
      "text/plain": [
       "2"
      ]
     },
     "execution_count": 46,
     "metadata": {},
     "output_type": "execute_result"
    }
   ],
   "source": [
    "d['key1']"
   ]
  },
  {
   "cell_type": "code",
   "execution_count": 1,
   "id": "bc57d9ef",
   "metadata": {},
   "outputs": [],
   "source": [
    "a='Aditya'"
   ]
  },
  {
   "cell_type": "code",
   "execution_count": 2,
   "id": "87b82400",
   "metadata": {},
   "outputs": [
    {
     "data": {
      "text/plain": [
       "'Aditya'"
      ]
     },
     "execution_count": 2,
     "metadata": {},
     "output_type": "execute_result"
    }
   ],
   "source": [
    "a"
   ]
  },
  {
   "cell_type": "code",
   "execution_count": 3,
   "id": "d2765d89",
   "metadata": {},
   "outputs": [],
   "source": [
    "b=a+' kumar'"
   ]
  },
  {
   "cell_type": "code",
   "execution_count": 4,
   "id": "25e4ddf9",
   "metadata": {},
   "outputs": [
    {
     "data": {
      "text/plain": [
       "'Aditya kumar'"
      ]
     },
     "execution_count": 4,
     "metadata": {},
     "output_type": "execute_result"
    }
   ],
   "source": [
    "b"
   ]
  },
  {
   "cell_type": "code",
   "execution_count": 5,
   "id": "f2c8e430",
   "metadata": {},
   "outputs": [
    {
     "data": {
      "text/plain": [
       "'/Users/adityakumar'"
      ]
     },
     "execution_count": 5,
     "metadata": {},
     "output_type": "execute_result"
    }
   ],
   "source": [
    "pwd"
   ]
  },
  {
   "cell_type": "code",
   "execution_count": null,
   "id": "7ca3489e",
   "metadata": {},
   "outputs": [],
   "source": []
  }
 ],
 "metadata": {
  "kernelspec": {
   "display_name": "Python 3 (ipykernel)",
   "language": "python",
   "name": "python3"
  },
  "language_info": {
   "codemirror_mode": {
    "name": "ipython",
    "version": 3
   },
   "file_extension": ".py",
   "mimetype": "text/x-python",
   "name": "python",
   "nbconvert_exporter": "python",
   "pygments_lexer": "ipython3",
   "version": "3.9.7"
  }
 },
 "nbformat": 4,
 "nbformat_minor": 5
}
